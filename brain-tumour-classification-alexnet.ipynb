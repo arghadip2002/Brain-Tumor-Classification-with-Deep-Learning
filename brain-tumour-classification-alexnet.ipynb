{
 "cells": [
  {
   "cell_type": "code",
   "execution_count": 1,
   "metadata": {
    "execution": {
     "iopub.execute_input": "2024-03-24T17:04:43.568959Z",
     "iopub.status.busy": "2024-03-24T17:04:43.568604Z",
     "iopub.status.idle": "2024-03-24T17:04:58.715251Z",
     "shell.execute_reply": "2024-03-24T17:04:58.714438Z",
     "shell.execute_reply.started": "2024-03-24T17:04:43.568932Z"
    }
   },
   "outputs": [
    {
     "name": "stdout",
     "output_type": "stream",
     "text": [
      "WARNING:tensorflow:From c:\\Python\\lib\\site-packages\\keras\\src\\losses.py:2976: The name tf.losses.sparse_softmax_cross_entropy is deprecated. Please use tf.compat.v1.losses.sparse_softmax_cross_entropy instead.\n",
      "\n"
     ]
    }
   ],
   "source": [
    "import tensorflow as tf\n",
    "from tensorflow.keras.preprocessing.image import ImageDataGenerator"
   ]
  },
  {
   "cell_type": "code",
   "execution_count": 2,
   "metadata": {
    "execution": {
     "iopub.execute_input": "2024-03-24T17:04:58.717289Z",
     "iopub.status.busy": "2024-03-24T17:04:58.716777Z",
     "iopub.status.idle": "2024-03-24T17:05:07.878213Z",
     "shell.execute_reply": "2024-03-24T17:05:07.877303Z",
     "shell.execute_reply.started": "2024-03-24T17:04:58.717263Z"
    }
   },
   "outputs": [
    {
     "name": "stdout",
     "output_type": "stream",
     "text": [
      "Found 5712 images belonging to 4 classes.\n"
     ]
    }
   ],
   "source": [
    "train_datagen = ImageDataGenerator(\n",
    "    rescale=1./255,\n",
    ")\n",
    "\n",
    "training_set = train_datagen.flow_from_directory(\n",
    "        'Dataset/Training',\n",
    "        target_size=(224, 224),\n",
    "        batch_size=64,\n",
    "        class_mode='categorical')"
   ]
  },
  {
   "cell_type": "code",
   "execution_count": 3,
   "metadata": {
    "execution": {
     "iopub.execute_input": "2024-03-24T17:05:07.879625Z",
     "iopub.status.busy": "2024-03-24T17:05:07.879314Z",
     "iopub.status.idle": "2024-03-24T17:05:08.061872Z",
     "shell.execute_reply": "2024-03-24T17:05:08.060964Z",
     "shell.execute_reply.started": "2024-03-24T17:05:07.879594Z"
    }
   },
   "outputs": [
    {
     "name": "stdout",
     "output_type": "stream",
     "text": [
      "Found 1239 images belonging to 4 classes.\n"
     ]
    }
   ],
   "source": [
    "validation_datagen = ImageDataGenerator(rescale=1./255)\n",
    "\n",
    "validation_set = validation_datagen.flow_from_directory(\n",
    "        'Dataset/validation',\n",
    "        target_size=(224, 224),\n",
    "        batch_size=64,\n",
    "        class_mode='categorical',\n",
    "        shuffle = False)"
   ]
  },
  {
   "cell_type": "markdown",
   "metadata": {},
   "source": [
    "## Building the CNN :\n",
    "##### Customising the AlexNET architecture for better result. Here we have used strides=4 in the 3rd,4th and 5th Convolution layers and omitted the last 3rd Pooling Layer (Max) from the architecture, to acheive more efficiency by experiment. (Which is different from the classic AlexNET model)"
   ]
  },
  {
   "cell_type": "code",
   "execution_count": 4,
   "metadata": {
    "execution": {
     "iopub.execute_input": "2024-03-24T17:05:08.064898Z",
     "iopub.status.busy": "2024-03-24T17:05:08.064524Z",
     "iopub.status.idle": "2024-03-24T17:05:09.153810Z",
     "shell.execute_reply": "2024-03-24T17:05:09.152824Z",
     "shell.execute_reply.started": "2024-03-24T17:05:08.064866Z"
    }
   },
   "outputs": [
    {
     "name": "stdout",
     "output_type": "stream",
     "text": [
      "WARNING:tensorflow:From c:\\Python\\lib\\site-packages\\keras\\src\\backend.py:873: The name tf.get_default_graph is deprecated. Please use tf.compat.v1.get_default_graph instead.\n",
      "\n",
      "WARNING:tensorflow:From c:\\Python\\lib\\site-packages\\keras\\src\\layers\\pooling\\max_pooling2d.py:161: The name tf.nn.max_pool is deprecated. Please use tf.nn.max_pool2d instead.\n",
      "\n",
      "WARNING:tensorflow:From c:\\Python\\lib\\site-packages\\keras\\src\\optimizers\\__init__.py:309: The name tf.train.Optimizer is deprecated. Please use tf.compat.v1.train.Optimizer instead.\n",
      "\n"
     ]
    }
   ],
   "source": [
    "# Initialising the CNN\n",
    "cnn = tf.keras.models.Sequential()\n",
    "\n",
    "# Convolutional layer\n",
    "cnn.add(tf.keras.layers.Conv2D(filters=96, kernel_size=11, strides=4, padding='same', activation=\"relu\", input_shape=[224,224,3]))\n",
    "# cnn.add(tf.keras.layers.Lambda(tf.nn.local_response_normalization)) # Normalisation\n",
    "tf.keras.layers.BatchNormalization()\n",
    "\n",
    "# Pooling Layer (Max Pooling)\n",
    "cnn.add(tf.keras.layers.MaxPooling2D(pool_size=3, strides=2))\n",
    "\n",
    "# 2nd Convolutional layer\n",
    "cnn.add(tf.keras.layers.Conv2D(filters=256, kernel_size=5, strides = 4, padding='same', activation=\"relu\"))\n",
    "# cnn.add(tf.keras.layers.Lambda(tf.nn.local_response_normalization)) # Normalisation\n",
    "tf.keras.layers.BatchNormalization()\n",
    "\n",
    "# 2nd Pooling Layer (Max Pooling)\n",
    "cnn.add(tf.keras.layers.MaxPooling2D(pool_size=3, strides=2))\n",
    "\n",
    "# Convolutional Layer 3\n",
    "cnn.add(tf.keras.layers.Conv2D(filters = 384, kernel_size = 3, strides=4, padding='same', activation='relu'))\n",
    "    \n",
    "# Convolutional Layer 4\n",
    "cnn.add(tf.keras.layers.Conv2D(filters = 384, kernel_size = 3, strides=4, padding='same', activation='relu'))\n",
    "    \n",
    "# Convolucnnl Layer 5\n",
    "cnn.add(tf.keras.layers.Conv2D(filters = 256, kernel_size = 3, strides=4, padding='same', activation='relu'))\n",
    "\n",
    "# Flattening layer\n",
    "cnn.add(tf.keras.layers.Flatten())\n",
    "\n",
    "# Full Connection\n",
    "cnn.add(tf.keras.layers.Dense(units=4096,activation=\"relu\")) # 1st Hidden layer\n",
    "cnn.add(tf.keras.layers.Dropout(0.5))\n",
    "\n",
    "cnn.add(tf.keras.layers.Dense(units=4096,activation=\"relu\")) # 2nd Hidden layer\n",
    "cnn.add(tf.keras.layers.Dropout(0.5))\n",
    "\n",
    "cnn.add(tf.keras.layers.Dense(units=4,activation=\"softmax\")) # Output Layer\n",
    "\n",
    "# Compiling the CNN :\n",
    "cnn.compile(optimizer=\"adam\", loss = \"categorical_crossentropy\", metrics=[\"accuracy\"])"
   ]
  },
  {
   "cell_type": "markdown",
   "metadata": {
    "execution": {
     "iopub.execute_input": "2024-03-24T17:00:36.513151Z",
     "iopub.status.busy": "2024-03-24T17:00:36.512503Z",
     "iopub.status.idle": "2024-03-24T17:00:36.518174Z",
     "shell.execute_reply": "2024-03-24T17:00:36.517023Z",
     "shell.execute_reply.started": "2024-03-24T17:00:36.513116Z"
    }
   },
   "source": [
    "## Training the Model :"
   ]
  },
  {
   "cell_type": "code",
   "execution_count": 5,
   "metadata": {
    "execution": {
     "iopub.execute_input": "2024-03-24T17:05:09.155201Z",
     "iopub.status.busy": "2024-03-24T17:05:09.154923Z",
     "iopub.status.idle": "2024-03-24T17:15:58.226342Z",
     "shell.execute_reply": "2024-03-24T17:15:58.225444Z",
     "shell.execute_reply.started": "2024-03-24T17:05:09.155178Z"
    }
   },
   "outputs": [
    {
     "name": "stdout",
     "output_type": "stream",
     "text": [
      "Epoch 1/25\n",
      "WARNING:tensorflow:From c:\\Python\\lib\\site-packages\\keras\\src\\utils\\tf_utils.py:492: The name tf.ragged.RaggedTensorValue is deprecated. Please use tf.compat.v1.ragged.RaggedTensorValue instead.\n",
      "\n",
      "WARNING:tensorflow:From c:\\Python\\lib\\site-packages\\keras\\src\\engine\\base_layer_utils.py:384: The name tf.executing_eagerly_outside_functions is deprecated. Please use tf.compat.v1.executing_eagerly_outside_functions instead.\n",
      "\n",
      "90/90 [==============================] - 286s 3s/step - loss: 1.2068 - accuracy: 0.3974 - val_loss: 1.0304 - val_accuracy: 0.5069\n",
      "Epoch 2/25\n",
      "90/90 [==============================] - 157s 2s/step - loss: 0.7053 - accuracy: 0.7152 - val_loss: 0.6546 - val_accuracy: 0.7676\n",
      "Epoch 3/25\n",
      "90/90 [==============================] - 155s 2s/step - loss: 0.4704 - accuracy: 0.8333 - val_loss: 0.5010 - val_accuracy: 0.8152\n",
      "Epoch 4/25\n",
      "90/90 [==============================] - 166s 2s/step - loss: 0.3436 - accuracy: 0.8878 - val_loss: 0.4550 - val_accuracy: 0.8305\n",
      "Epoch 5/25\n",
      "90/90 [==============================] - 155s 2s/step - loss: 0.2792 - accuracy: 0.9046 - val_loss: 0.3872 - val_accuracy: 0.8394\n",
      "Epoch 6/25\n",
      "90/90 [==============================] - 154s 2s/step - loss: 0.2153 - accuracy: 0.9308 - val_loss: 0.3220 - val_accuracy: 0.8862\n",
      "Epoch 7/25\n",
      "90/90 [==============================] - 155s 2s/step - loss: 0.1975 - accuracy: 0.9357 - val_loss: 0.3301 - val_accuracy: 0.8773\n",
      "Epoch 8/25\n",
      "90/90 [==============================] - 153s 2s/step - loss: 0.1683 - accuracy: 0.9417 - val_loss: 0.3828 - val_accuracy: 0.8547\n",
      "Epoch 9/25\n",
      "90/90 [==============================] - 155s 2s/step - loss: 0.1379 - accuracy: 0.9547 - val_loss: 0.2999 - val_accuracy: 0.8894\n",
      "Epoch 10/25\n",
      "90/90 [==============================] - 154s 2s/step - loss: 0.1201 - accuracy: 0.9611 - val_loss: 0.2451 - val_accuracy: 0.9185\n",
      "Epoch 11/25\n",
      "90/90 [==============================] - 155s 2s/step - loss: 0.1089 - accuracy: 0.9625 - val_loss: 0.2374 - val_accuracy: 0.9177\n",
      "Epoch 12/25\n",
      "90/90 [==============================] - 155s 2s/step - loss: 0.0924 - accuracy: 0.9692 - val_loss: 0.2586 - val_accuracy: 0.9177\n",
      "Epoch 13/25\n",
      "90/90 [==============================] - 158s 2s/step - loss: 0.0921 - accuracy: 0.9708 - val_loss: 0.2884 - val_accuracy: 0.9233\n",
      "Epoch 14/25\n",
      "90/90 [==============================] - 155s 2s/step - loss: 0.0715 - accuracy: 0.9792 - val_loss: 0.1447 - val_accuracy: 0.9540\n",
      "Epoch 15/25\n",
      "90/90 [==============================] - 155s 2s/step - loss: 0.0693 - accuracy: 0.9797 - val_loss: 0.1522 - val_accuracy: 0.9443\n",
      "Epoch 16/25\n",
      "90/90 [==============================] - 155s 2s/step - loss: 0.0896 - accuracy: 0.9748 - val_loss: 0.3375 - val_accuracy: 0.9112\n",
      "Epoch 17/25\n",
      "90/90 [==============================] - 154s 2s/step - loss: 0.0697 - accuracy: 0.9786 - val_loss: 0.2361 - val_accuracy: 0.9338\n",
      "Epoch 18/25\n",
      "90/90 [==============================] - 157s 2s/step - loss: 0.0519 - accuracy: 0.9853 - val_loss: 0.2277 - val_accuracy: 0.9443\n",
      "Epoch 19/25\n",
      "90/90 [==============================] - 149s 2s/step - loss: 0.0710 - accuracy: 0.9795 - val_loss: 0.2239 - val_accuracy: 0.9508\n",
      "Epoch 20/25\n",
      "90/90 [==============================] - 158s 2s/step - loss: 0.0388 - accuracy: 0.9890 - val_loss: 0.2956 - val_accuracy: 0.9153\n",
      "Epoch 21/25\n",
      "90/90 [==============================] - 154s 2s/step - loss: 0.0659 - accuracy: 0.9816 - val_loss: 0.1980 - val_accuracy: 0.9475\n",
      "Epoch 22/25\n",
      "90/90 [==============================] - 157s 2s/step - loss: 0.0498 - accuracy: 0.9849 - val_loss: 0.2318 - val_accuracy: 0.9249\n",
      "Epoch 23/25\n",
      "90/90 [==============================] - 155s 2s/step - loss: 0.0372 - accuracy: 0.9884 - val_loss: 0.2172 - val_accuracy: 0.9467\n",
      "Epoch 24/25\n",
      "90/90 [==============================] - 195s 2s/step - loss: 0.0230 - accuracy: 0.9928 - val_loss: 0.3921 - val_accuracy: 0.9459\n",
      "Epoch 25/25\n",
      "90/90 [==============================] - 153s 2s/step - loss: 0.0274 - accuracy: 0.9919 - val_loss: 0.4058 - val_accuracy: 0.9379\n"
     ]
    }
   ],
   "source": [
    "# Training and Evaluating the CNN :\n",
    "history = cnn.fit(x = training_set, validation_data = validation_set, epochs=25)"
   ]
  },
  {
   "cell_type": "code",
   "execution_count": 6,
   "metadata": {
    "execution": {
     "iopub.execute_input": "2024-03-24T17:51:17.838106Z",
     "iopub.status.busy": "2024-03-24T17:51:17.837730Z",
     "iopub.status.idle": "2024-03-24T17:51:17.852523Z",
     "shell.execute_reply": "2024-03-24T17:51:17.851820Z",
     "shell.execute_reply.started": "2024-03-24T17:51:17.838071Z"
    }
   },
   "outputs": [
    {
     "name": "stdout",
     "output_type": "stream",
     "text": [
      "Found 72 images belonging to 4 classes.\n"
     ]
    }
   ],
   "source": [
    "test_datagen = ImageDataGenerator(rescale=1./255)\n",
    "\n",
    "test_set = test_datagen.flow_from_directory(\n",
    "        'Dataset/test',\n",
    "        target_size=(224, 224),\n",
    "        batch_size=64,\n",
    "        class_mode='categorical',\n",
    "        shuffle=False)"
   ]
  },
  {
   "cell_type": "code",
   "execution_count": 7,
   "metadata": {
    "execution": {
     "iopub.execute_input": "2024-03-24T17:51:18.036824Z",
     "iopub.status.busy": "2024-03-24T17:51:18.036416Z",
     "iopub.status.idle": "2024-03-24T17:51:18.519307Z",
     "shell.execute_reply": "2024-03-24T17:51:18.518449Z",
     "shell.execute_reply.started": "2024-03-24T17:51:18.036790Z"
    }
   },
   "outputs": [
    {
     "name": "stdout",
     "output_type": "stream",
     "text": [
      "2/2 [==============================] - 1s 67ms/step\n",
      "[[0 0]\n",
      " [0 0]\n",
      " [0 0]\n",
      " [0 0]\n",
      " [0 0]\n",
      " [0 0]\n",
      " [0 0]\n",
      " [0 0]\n",
      " [0 0]\n",
      " [0 0]\n",
      " [0 0]\n",
      " [0 0]\n",
      " [0 0]\n",
      " [0 0]\n",
      " [0 0]\n",
      " [0 0]\n",
      " [0 0]\n",
      " [0 0]\n",
      " [1 1]\n",
      " [1 2]\n",
      " [1 1]\n",
      " [1 1]\n",
      " [1 1]\n",
      " [1 1]\n",
      " [1 1]\n",
      " [1 1]\n",
      " [1 1]\n",
      " [1 1]\n",
      " [1 1]\n",
      " [1 1]\n",
      " [1 1]\n",
      " [1 2]\n",
      " [1 2]\n",
      " [1 1]\n",
      " [1 2]\n",
      " [1 1]\n",
      " [2 2]\n",
      " [2 2]\n",
      " [2 2]\n",
      " [2 2]\n",
      " [2 2]\n",
      " [2 2]\n",
      " [2 2]\n",
      " [2 2]\n",
      " [2 2]\n",
      " [2 2]\n",
      " [2 2]\n",
      " [2 2]\n",
      " [2 2]\n",
      " [2 2]\n",
      " [2 2]\n",
      " [2 2]\n",
      " [2 2]\n",
      " [2 2]\n",
      " [3 3]\n",
      " [3 3]\n",
      " [3 3]\n",
      " [3 3]\n",
      " [3 3]\n",
      " [3 3]\n",
      " [3 3]\n",
      " [3 3]\n",
      " [3 3]\n",
      " [3 3]\n",
      " [3 3]\n",
      " [3 3]\n",
      " [3 3]\n",
      " [3 3]\n",
      " [3 3]\n",
      " [3 3]\n",
      " [3 3]\n",
      " [3 3]]\n"
     ]
    }
   ],
   "source": [
    "import numpy as np\n",
    "\n",
    "y_pred =cnn.predict(test_set)\n",
    "y_pred = np.argmax(y_pred, axis=1)\n",
    "y_true = test_set.classes\n",
    "print(np.concatenate((y_true.reshape(len(y_true),1),y_pred.reshape(len(y_pred),1)),axis=1))"
   ]
  },
  {
   "cell_type": "markdown",
   "metadata": {},
   "source": [
    "## Evaluating the Model :"
   ]
  },
  {
   "cell_type": "code",
   "execution_count": 8,
   "metadata": {
    "execution": {
     "iopub.execute_input": "2024-03-24T17:51:18.521510Z",
     "iopub.status.busy": "2024-03-24T17:51:18.520683Z",
     "iopub.status.idle": "2024-03-24T17:51:18.528277Z",
     "shell.execute_reply": "2024-03-24T17:51:18.527218Z",
     "shell.execute_reply.started": "2024-03-24T17:51:18.521481Z"
    }
   },
   "outputs": [
    {
     "name": "stdout",
     "output_type": "stream",
     "text": [
      "[[18  0  0  0]\n",
      " [ 0 14  4  0]\n",
      " [ 0  0 18  0]\n",
      " [ 0  0  0 18]]\n"
     ]
    }
   ],
   "source": [
    "# Confusion Matrix :\n",
    "from sklearn.metrics import confusion_matrix\n",
    "cm = confusion_matrix(y_true,y_pred)\n",
    "print(cm)"
   ]
  },
  {
   "cell_type": "code",
   "execution_count": 9,
   "metadata": {
    "execution": {
     "iopub.execute_input": "2024-03-24T17:51:19.026895Z",
     "iopub.status.busy": "2024-03-24T17:51:19.026552Z",
     "iopub.status.idle": "2024-03-24T17:51:19.033233Z",
     "shell.execute_reply": "2024-03-24T17:51:19.032226Z",
     "shell.execute_reply.started": "2024-03-24T17:51:19.026870Z"
    }
   },
   "outputs": [
    {
     "name": "stdout",
     "output_type": "stream",
     "text": [
      "The Accuracy of the model is : 94.44%\n"
     ]
    }
   ],
   "source": [
    "# Accuracy :\n",
    "from sklearn.metrics import accuracy_score\n",
    "accuracy = accuracy_score(y_true,y_pred)\n",
    "print(f\"The Accuracy of the model is : {accuracy*100:.2f}%\")"
   ]
  },
  {
   "cell_type": "markdown",
   "metadata": {},
   "source": [
    "## Visualisation of the Model, for perfect Evaluation :"
   ]
  },
  {
   "cell_type": "code",
   "execution_count": 10,
   "metadata": {
    "execution": {
     "iopub.execute_input": "2024-03-24T17:51:22.489172Z",
     "iopub.status.busy": "2024-03-24T17:51:22.488437Z",
     "iopub.status.idle": "2024-03-24T17:51:22.812510Z",
     "shell.execute_reply": "2024-03-24T17:51:22.811650Z",
     "shell.execute_reply.started": "2024-03-24T17:51:22.489140Z"
    }
   },
   "outputs": [
    {
     "data": {
      "image/png": "[encoded data removed]",
      "text/plain": [
       "<Figure size 640x480 with 1 Axes>"
      ]
     },
     "metadata": {},
     "output_type": "display_data"
    }
   ],
   "source": [
    "import matplotlib.pyplot as plt\n",
    "\n",
    "plt.plot(history.history['accuracy'], label='Training Accuracy')\n",
    "plt.plot(history.history['val_accuracy'], label='Validation Accuracy')\n",
    "plt.xlabel('Epoch')\n",
    "plt.ylabel('Accuracy')\n",
    "plt.legend()\n",
    "plt.title('Training and Validation Accuracy in AlexNET')\n",
    "plt.show()"
   ]
  },
  {
   "cell_type": "code",
   "execution_count": 11,
   "metadata": {
    "execution": {
     "iopub.execute_input": "2024-03-24T17:51:23.407747Z",
     "iopub.status.busy": "2024-03-24T17:51:23.407060Z",
     "iopub.status.idle": "2024-03-24T17:51:23.699761Z",
     "shell.execute_reply": "2024-03-24T17:51:23.698917Z",
     "shell.execute_reply.started": "2024-03-24T17:51:23.407715Z"
    }
   },
   "outputs": [
    {
     "data": {
      "image/png": "[encoded data removed]",
      "text/plain": [
       "<Figure size 640x480 with 1 Axes>"
      ]
     },
     "metadata": {},
     "output_type": "display_data"
    }
   ],
   "source": [
    "plt.plot(history.history['loss'], label='Training Loss')\n",
    "plt.plot(history.history['val_loss'], label='Validation Loss')\n",
    "plt.xlabel('Epoch')\n",
    "plt.ylabel('Loss')\n",
    "plt.legend()\n",
    "plt.title('Training and Validation Loss in AlexNET')\n",
    "plt.show()"
   ]
  },
  {
   "cell_type": "code",
   "execution_count": 12,
   "metadata": {
    "execution": {
     "iopub.execute_input": "2024-03-24T17:57:37.513071Z",
     "iopub.status.busy": "2024-03-24T17:57:37.512334Z",
     "iopub.status.idle": "2024-03-24T17:57:38.055924Z",
     "shell.execute_reply": "2024-03-24T17:57:38.055080Z",
     "shell.execute_reply.started": "2024-03-24T17:57:37.513038Z"
    }
   },
   "outputs": [
    {
     "name": "stdout",
     "output_type": "stream",
     "text": [
      "INFO:tensorflow:Assets written to: ml_model\\assets\n"
     ]
    },
    {
     "name": "stderr",
     "output_type": "stream",
     "text": [
      "INFO:tensorflow:Assets written to: ml_model\\assets\n"
     ]
    }
   ],
   "source": [
    "cnn.save(\"ml_model\")"
   ]
  },
  {
   "cell_type": "code",
   "execution_count": null,
   "metadata": {},
   "outputs": [],
   "source": []
  }
 ],
 "metadata": {
  "kaggle": {
   "accelerator": "nvidiaTeslaT4",
   "dataSources": [
    {
     "datasetId": 4658218,
     "sourceId": 7926051,
     "sourceType": "datasetVersion"
    }
   ],
   "dockerImageVersionId": 30674,
   "isGpuEnabled": true,
   "isInternetEnabled": true,
   "language": "python",
   "sourceType": "notebook"
  },
  "kernelspec": {
   "display_name": "Python 3 (ipykernel)",
   "language": "python",
   "name": "python3"
  },
  "language_info": {
   "codemirror_mode": {
    "name": "ipython",
    "version": 3
   },
   "file_extension": ".py",
   "mimetype": "text/x-python",
   "name": "python",
   "nbconvert_exporter": "python",
   "pygments_lexer": "ipython3",
   "version": "3.10.8"
  }
 },
 "nbformat": 4,
 "nbformat_minor": 4
}
